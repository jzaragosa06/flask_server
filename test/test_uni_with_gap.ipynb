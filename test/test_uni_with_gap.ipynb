{
 "cells": [
  {
   "cell_type": "code",
   "execution_count": 1,
   "metadata": {},
   "outputs": [
    {
     "name": "stderr",
     "output_type": "stream",
     "text": [
      "/home/codespace/.python/current/lib/python3.10/site-packages/tqdm/auto.py:21: TqdmWarning: IProgress not found. Please update jupyter and ipywidgets. See https://ipywidgets.readthedocs.io/en/stable/user_install.html\n",
      "  from .autonotebook import tqdm as notebook_tqdm\n"
     ]
    }
   ],
   "source": [
    "import sys\n",
    "import os\n",
    "\n",
    "# Add the directory containing the utility module to the system path\n",
    "sys.path.append(os.path.abspath('/workspaces/flask_server'))\n",
    "\n",
    "import pandas as pd\n",
    "import numpy as np\n",
    "from utility.lags import sig_lag\n",
    "from models.stacking import *\n",
    "from utility.gap_functions import *\n",
    "from utility.gap_functions import *\n",
    "from forecast.forecast_uni_with_gap import *"
   ]
  },
  {
   "cell_type": "code",
   "execution_count": 2,
   "metadata": {},
   "outputs": [
    {
     "data": {
      "text/html": [
       "<div>\n",
       "<style scoped>\n",
       "    .dataframe tbody tr th:only-of-type {\n",
       "        vertical-align: middle;\n",
       "    }\n",
       "\n",
       "    .dataframe tbody tr th {\n",
       "        vertical-align: top;\n",
       "    }\n",
       "\n",
       "    .dataframe thead th {\n",
       "        text-align: right;\n",
       "    }\n",
       "</style>\n",
       "<table border=\"1\" class=\"dataframe\">\n",
       "  <thead>\n",
       "    <tr style=\"text-align: right;\">\n",
       "      <th></th>\n",
       "      <th>Close</th>\n",
       "    </tr>\n",
       "    <tr>\n",
       "      <th>Date</th>\n",
       "      <th></th>\n",
       "    </tr>\n",
       "  </thead>\n",
       "  <tbody>\n",
       "    <tr>\n",
       "      <th>2023-06-20</th>\n",
       "      <td>185.009995</td>\n",
       "    </tr>\n",
       "    <tr>\n",
       "      <th>2023-06-21</th>\n",
       "      <td>183.960007</td>\n",
       "    </tr>\n",
       "    <tr>\n",
       "      <th>2023-06-22</th>\n",
       "      <td>187.000000</td>\n",
       "    </tr>\n",
       "    <tr>\n",
       "      <th>2023-06-23</th>\n",
       "      <td>186.679993</td>\n",
       "    </tr>\n",
       "    <tr>\n",
       "      <th>2023-06-26</th>\n",
       "      <td>185.270004</td>\n",
       "    </tr>\n",
       "    <tr>\n",
       "      <th>...</th>\n",
       "      <td>...</td>\n",
       "    </tr>\n",
       "    <tr>\n",
       "      <th>2024-06-12</th>\n",
       "      <td>213.070007</td>\n",
       "    </tr>\n",
       "    <tr>\n",
       "      <th>2024-06-13</th>\n",
       "      <td>214.240005</td>\n",
       "    </tr>\n",
       "    <tr>\n",
       "      <th>2024-06-14</th>\n",
       "      <td>212.490005</td>\n",
       "    </tr>\n",
       "    <tr>\n",
       "      <th>2024-06-17</th>\n",
       "      <td>216.669998</td>\n",
       "    </tr>\n",
       "    <tr>\n",
       "      <th>2024-06-18</th>\n",
       "      <td>212.490005</td>\n",
       "    </tr>\n",
       "  </tbody>\n",
       "</table>\n",
       "<p>252 rows × 1 columns</p>\n",
       "</div>"
      ],
      "text/plain": [
       "                 Close\n",
       "Date                  \n",
       "2023-06-20  185.009995\n",
       "2023-06-21  183.960007\n",
       "2023-06-22  187.000000\n",
       "2023-06-23  186.679993\n",
       "2023-06-26  185.270004\n",
       "...                ...\n",
       "2024-06-12  213.070007\n",
       "2024-06-13  214.240005\n",
       "2024-06-14  212.490005\n",
       "2024-06-17  216.669998\n",
       "2024-06-18  212.490005\n",
       "\n",
       "[252 rows x 1 columns]"
      ]
     },
     "execution_count": 2,
     "metadata": {},
     "output_type": "execute_result"
    }
   ],
   "source": [
    "df = pd.read_csv('/workspaces/flask_server/test/data/apple.csv', index_col=0,parse_dates=True)\n",
    "df = pd.DataFrame(df['Close'])\n",
    "df"
   ]
  },
  {
   "cell_type": "code",
   "execution_count": 3,
   "metadata": {},
   "outputs": [
    {
     "name": "stdout",
     "output_type": "stream",
     "text": [
      "gap: 2 interval_length: 5\n",
      "count_before: 2\n"
     ]
    }
   ],
   "source": [
    "gap_length, interval_length = identify_gap(df = df, freq = 'D')\n",
    "print(f\"gap: {gap_length} interval_length: {interval_length}\")\n",
    "count_before = compute_count_before(df =df, freq = 'D', interval_length_before_gap=interval_length)\n",
    "print(f\"count_before: {count_before}\")\n"
   ]
  },
  {
   "cell_type": "code",
   "execution_count": 4,
   "metadata": {},
   "outputs": [
    {
     "name": "stdout",
     "output_type": "stream",
     "text": [
      "sig lag: 24\n"
     ]
    }
   ],
   "source": [
    "lag = sig_lag(df, 30, ts_type = \"univariate\")\n",
    "print(f\"sig lag: {lag}\")"
   ]
  },
  {
   "cell_type": "code",
   "execution_count": 5,
   "metadata": {},
   "outputs": [],
   "source": [
    "# pred = forecast_uni_with_gap(df_arg = df, lag_value = int(lag) , steps_value = 14, freq = 'D', gap_length = gap_length, interval_length_before_gap = interval_length, forecast_method=\"without_refit\")\n",
    "# pred = forecast_uni_with_gap(df_arg = df, lag_value = int(lag) , steps_value = 14, freq = 'D', gap_length = gap_length, interval_length_before_gap = interval_length, forecast_method=\"with_refit\")\n",
    "\n",
    "# pred"
   ]
  },
  {
   "cell_type": "code",
   "execution_count": 6,
   "metadata": {},
   "outputs": [
    {
     "name": "stderr",
     "output_type": "stream",
     "text": [
      "100%|██████████| 4/4 [00:00<00:00, 26.17it/s]"
     ]
    },
    {
     "name": "stdout",
     "output_type": "stream",
     "text": [
      "count_before: 2\n",
      "78.10072632311982\n",
      "                target\n",
      "2024-04-09  168.590806\n",
      "2024-04-10  169.569925\n",
      "2024-04-11  170.277218\n",
      "2024-04-14  171.799283\n",
      "2024-04-15  171.890178\n",
      "2024-04-16  173.095626\n",
      "2024-04-17  173.734342\n",
      "2024-04-18  173.447382\n",
      "2024-04-21  173.769431\n",
      "2024-04-22  175.236382\n",
      "2024-04-23  174.783113\n",
      "2024-04-24  175.395669\n",
      "2024-04-25  175.665785\n",
      "2024-04-28  174.916895\n",
      "2024-04-29  170.198643\n",
      "2024-04-30  170.226358\n",
      "2024-05-01  171.344692\n",
      "2024-05-02  171.321730\n",
      "2024-05-05  171.094432\n",
      "2024-05-06  170.874747\n",
      "2024-05-07  171.612305\n",
      "2024-05-08  172.630275\n",
      "2024-05-09  173.104248\n",
      "2024-05-12  172.153678\n",
      "2024-05-13  173.116862\n",
      "2024-05-14  174.218765\n",
      "2024-05-15  174.661572\n",
      "2024-05-16  174.506914\n",
      "2024-05-19  190.744402\n",
      "2024-05-20  189.825196\n",
      "2024-05-21  189.032068\n",
      "2024-05-22  190.020612\n",
      "2024-05-23  191.000014\n",
      "2024-05-26  190.823527\n",
      "2024-05-27  190.687385\n",
      "2024-05-28  190.181042\n",
      "2024-05-29  191.802034\n",
      "2024-05-30  192.188565\n",
      "2024-06-02  191.742931\n",
      "2024-06-03  191.193273\n",
      "2024-06-04  193.047538\n",
      "2024-06-05  193.742340\n",
      "2024-06-06  193.811346\n",
      "2024-06-09  194.528105\n",
      "2024-06-10  195.173752\n",
      "2024-06-11  194.857943\n",
      "2024-06-12  195.168274\n",
      "2024-06-13  195.912971\n",
      "2024-06-16  196.209880\n",
      "2024-06-17  196.074928\n"
     ]
    },
    {
     "name": "stderr",
     "output_type": "stream",
     "text": [
      "\n"
     ]
    }
   ],
   "source": [
    "metric, predictions = evaluate_model_uni_with_gap(df_arg = df, lag_value = int(lag) , steps_value = 14, freq = 'D', gap_length = gap_length, interval_length_before_gap = interval_length, forecast_method=\"without_refit\")\n",
    "print(metric)\n",
    "print(predictions)"
   ]
  }
 ],
 "metadata": {
  "kernelspec": {
   "display_name": "Python 3",
   "language": "python",
   "name": "python3"
  },
  "language_info": {
   "codemirror_mode": {
    "name": "ipython",
    "version": 3
   },
   "file_extension": ".py",
   "mimetype": "text/x-python",
   "name": "python",
   "nbconvert_exporter": "python",
   "pygments_lexer": "ipython3",
   "version": "3.10.13"
  }
 },
 "nbformat": 4,
 "nbformat_minor": 2
}
