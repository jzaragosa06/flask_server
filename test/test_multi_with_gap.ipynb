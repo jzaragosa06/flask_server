{
 "cells": [
  {
   "cell_type": "code",
   "execution_count": 1,
   "metadata": {},
   "outputs": [
    {
     "name": "stderr",
     "output_type": "stream",
     "text": [
      "/home/codespace/.python/current/lib/python3.10/site-packages/tqdm/auto.py:21: TqdmWarning: IProgress not found. Please update jupyter and ipywidgets. See https://ipywidgets.readthedocs.io/en/stable/user_install.html\n",
      "  from .autonotebook import tqdm as notebook_tqdm\n"
     ]
    }
   ],
   "source": [
    "import sys\n",
    "import os\n",
    "\n",
    "# Add the directory containing the utility module to the system path\n",
    "sys.path.append(os.path.abspath('/workspaces/flask_server'))\n",
    "\n",
    "import pandas as pd\n",
    "import numpy as np\n",
    "from utility.lags import sig_lag\n",
    "from models.stacking import *\n",
    "from utility.gap_interval_identification import *\n",
    "from utility.count_before_prior_gap import *\n",
    "from forecast.forecast_multi_with_gap import *"
   ]
  },
  {
   "cell_type": "code",
   "execution_count": 2,
   "metadata": {},
   "outputs": [
    {
     "data": {
      "text/html": [
       "<div>\n",
       "<style scoped>\n",
       "    .dataframe tbody tr th:only-of-type {\n",
       "        vertical-align: middle;\n",
       "    }\n",
       "\n",
       "    .dataframe tbody tr th {\n",
       "        vertical-align: top;\n",
       "    }\n",
       "\n",
       "    .dataframe thead th {\n",
       "        text-align: right;\n",
       "    }\n",
       "</style>\n",
       "<table border=\"1\" class=\"dataframe\">\n",
       "  <thead>\n",
       "    <tr style=\"text-align: right;\">\n",
       "      <th></th>\n",
       "      <th>Open</th>\n",
       "      <th>High</th>\n",
       "      <th>Low</th>\n",
       "      <th>Close</th>\n",
       "      <th>Adj Close</th>\n",
       "      <th>Volume</th>\n",
       "    </tr>\n",
       "    <tr>\n",
       "      <th>Date</th>\n",
       "      <th></th>\n",
       "      <th></th>\n",
       "      <th></th>\n",
       "      <th></th>\n",
       "      <th></th>\n",
       "      <th></th>\n",
       "    </tr>\n",
       "  </thead>\n",
       "  <tbody>\n",
       "    <tr>\n",
       "      <th>2023-06-20</th>\n",
       "      <td>184.410004</td>\n",
       "      <td>186.100006</td>\n",
       "      <td>184.410004</td>\n",
       "      <td>185.009995</td>\n",
       "      <td>184.282257</td>\n",
       "      <td>49799100</td>\n",
       "    </tr>\n",
       "    <tr>\n",
       "      <th>2023-06-21</th>\n",
       "      <td>184.899994</td>\n",
       "      <td>185.410004</td>\n",
       "      <td>182.589996</td>\n",
       "      <td>183.960007</td>\n",
       "      <td>183.236404</td>\n",
       "      <td>49515700</td>\n",
       "    </tr>\n",
       "    <tr>\n",
       "      <th>2023-06-22</th>\n",
       "      <td>183.740005</td>\n",
       "      <td>187.050003</td>\n",
       "      <td>183.669998</td>\n",
       "      <td>187.000000</td>\n",
       "      <td>186.264435</td>\n",
       "      <td>51245300</td>\n",
       "    </tr>\n",
       "    <tr>\n",
       "      <th>2023-06-23</th>\n",
       "      <td>185.550003</td>\n",
       "      <td>187.559998</td>\n",
       "      <td>185.009995</td>\n",
       "      <td>186.679993</td>\n",
       "      <td>185.945679</td>\n",
       "      <td>53079300</td>\n",
       "    </tr>\n",
       "    <tr>\n",
       "      <th>2023-06-26</th>\n",
       "      <td>186.830002</td>\n",
       "      <td>188.050003</td>\n",
       "      <td>185.229996</td>\n",
       "      <td>185.270004</td>\n",
       "      <td>184.541260</td>\n",
       "      <td>48088700</td>\n",
       "    </tr>\n",
       "    <tr>\n",
       "      <th>...</th>\n",
       "      <td>...</td>\n",
       "      <td>...</td>\n",
       "      <td>...</td>\n",
       "      <td>...</td>\n",
       "      <td>...</td>\n",
       "      <td>...</td>\n",
       "    </tr>\n",
       "    <tr>\n",
       "      <th>2024-06-12</th>\n",
       "      <td>207.369995</td>\n",
       "      <td>220.199997</td>\n",
       "      <td>206.899994</td>\n",
       "      <td>213.070007</td>\n",
       "      <td>213.070007</td>\n",
       "      <td>198134300</td>\n",
       "    </tr>\n",
       "    <tr>\n",
       "      <th>2024-06-13</th>\n",
       "      <td>214.740005</td>\n",
       "      <td>216.750000</td>\n",
       "      <td>211.600006</td>\n",
       "      <td>214.240005</td>\n",
       "      <td>214.240005</td>\n",
       "      <td>97862700</td>\n",
       "    </tr>\n",
       "    <tr>\n",
       "      <th>2024-06-14</th>\n",
       "      <td>213.850006</td>\n",
       "      <td>215.169998</td>\n",
       "      <td>211.300003</td>\n",
       "      <td>212.490005</td>\n",
       "      <td>212.490005</td>\n",
       "      <td>70122700</td>\n",
       "    </tr>\n",
       "    <tr>\n",
       "      <th>2024-06-17</th>\n",
       "      <td>213.369995</td>\n",
       "      <td>218.949997</td>\n",
       "      <td>212.720001</td>\n",
       "      <td>216.669998</td>\n",
       "      <td>216.669998</td>\n",
       "      <td>93609800</td>\n",
       "    </tr>\n",
       "    <tr>\n",
       "      <th>2024-06-18</th>\n",
       "      <td>213.850006</td>\n",
       "      <td>215.169998</td>\n",
       "      <td>211.300003</td>\n",
       "      <td>212.490005</td>\n",
       "      <td>212.490005</td>\n",
       "      <td>70122700</td>\n",
       "    </tr>\n",
       "  </tbody>\n",
       "</table>\n",
       "<p>252 rows × 6 columns</p>\n",
       "</div>"
      ],
      "text/plain": [
       "                  Open        High         Low       Close   Adj Close  \\\n",
       "Date                                                                     \n",
       "2023-06-20  184.410004  186.100006  184.410004  185.009995  184.282257   \n",
       "2023-06-21  184.899994  185.410004  182.589996  183.960007  183.236404   \n",
       "2023-06-22  183.740005  187.050003  183.669998  187.000000  186.264435   \n",
       "2023-06-23  185.550003  187.559998  185.009995  186.679993  185.945679   \n",
       "2023-06-26  186.830002  188.050003  185.229996  185.270004  184.541260   \n",
       "...                ...         ...         ...         ...         ...   \n",
       "2024-06-12  207.369995  220.199997  206.899994  213.070007  213.070007   \n",
       "2024-06-13  214.740005  216.750000  211.600006  214.240005  214.240005   \n",
       "2024-06-14  213.850006  215.169998  211.300003  212.490005  212.490005   \n",
       "2024-06-17  213.369995  218.949997  212.720001  216.669998  216.669998   \n",
       "2024-06-18  213.850006  215.169998  211.300003  212.490005  212.490005   \n",
       "\n",
       "               Volume  \n",
       "Date                   \n",
       "2023-06-20   49799100  \n",
       "2023-06-21   49515700  \n",
       "2023-06-22   51245300  \n",
       "2023-06-23   53079300  \n",
       "2023-06-26   48088700  \n",
       "...               ...  \n",
       "2024-06-12  198134300  \n",
       "2024-06-13   97862700  \n",
       "2024-06-14   70122700  \n",
       "2024-06-17   93609800  \n",
       "2024-06-18   70122700  \n",
       "\n",
       "[252 rows x 6 columns]"
      ]
     },
     "execution_count": 2,
     "metadata": {},
     "output_type": "execute_result"
    }
   ],
   "source": [
    "df = pd.read_csv('/workspaces/flask_server/test/data/apple.csv', index_col=0,parse_dates=True)\n",
    "df"
   ]
  },
  {
   "cell_type": "code",
   "execution_count": 3,
   "metadata": {},
   "outputs": [
    {
     "name": "stdout",
     "output_type": "stream",
     "text": [
      "gap: 2 interval_length: 5\n",
      "count_before: 2\n"
     ]
    }
   ],
   "source": [
    "gap_length, interval_length = identify_gap(df = df, freq = 'D')\n",
    "print(f\"gap: {gap_length} interval_length: {interval_length}\")\n",
    "count_before = compute_count_before(df =df, freq = 'D', interval_length_before_gap=interval_length)\n",
    "print(f\"count_before: {count_before}\")"
   ]
  },
  {
   "cell_type": "code",
   "execution_count": 4,
   "metadata": {},
   "outputs": [
    {
     "name": "stdout",
     "output_type": "stream",
     "text": [
      "[23, 23, 24, 24, 24, 30]\n",
      "<class 'list'>\n"
     ]
    }
   ],
   "source": [
    "lag_list = sig_lag(df = df, max_lag = 30, ts_type=\"multivariate\")\n",
    "print(lag_list)\n",
    "print(type(lag_list))"
   ]
  },
  {
   "cell_type": "code",
   "execution_count": 6,
   "metadata": {},
   "outputs": [
    {
     "name": "stdout",
     "output_type": "stream",
     "text": [
      "count_before: 2\n"
     ]
    }
   ],
   "source": [
    "pred = forecast_multi_with_gap(df_arg = df, lag_list = lag_list, steps_value = 14, freq = 'D', gap_length = gap_length, interval_length_before_gap = interval_length, forecast_method='without_refit')\n"
   ]
  },
  {
   "cell_type": "code",
   "execution_count": 7,
   "metadata": {},
   "outputs": [
    {
     "data": {
      "text/html": [
       "<div>\n",
       "<style scoped>\n",
       "    .dataframe tbody tr th:only-of-type {\n",
       "        vertical-align: middle;\n",
       "    }\n",
       "\n",
       "    .dataframe tbody tr th {\n",
       "        vertical-align: top;\n",
       "    }\n",
       "\n",
       "    .dataframe thead th {\n",
       "        text-align: right;\n",
       "    }\n",
       "</style>\n",
       "<table border=\"1\" class=\"dataframe\">\n",
       "  <thead>\n",
       "    <tr style=\"text-align: right;\">\n",
       "      <th></th>\n",
       "      <th>target</th>\n",
       "    </tr>\n",
       "  </thead>\n",
       "  <tbody>\n",
       "    <tr>\n",
       "      <th>2024-06-19</th>\n",
       "      <td>7.286602e+07</td>\n",
       "    </tr>\n",
       "    <tr>\n",
       "      <th>2024-06-20</th>\n",
       "      <td>5.821005e+07</td>\n",
       "    </tr>\n",
       "    <tr>\n",
       "      <th>2024-06-21</th>\n",
       "      <td>5.728687e+07</td>\n",
       "    </tr>\n",
       "    <tr>\n",
       "      <th>2024-06-24</th>\n",
       "      <td>5.431794e+07</td>\n",
       "    </tr>\n",
       "    <tr>\n",
       "      <th>2024-06-25</th>\n",
       "      <td>5.398846e+07</td>\n",
       "    </tr>\n",
       "    <tr>\n",
       "      <th>2024-06-26</th>\n",
       "      <td>5.157746e+07</td>\n",
       "    </tr>\n",
       "    <tr>\n",
       "      <th>2024-06-27</th>\n",
       "      <td>5.657740e+07</td>\n",
       "    </tr>\n",
       "    <tr>\n",
       "      <th>2024-06-28</th>\n",
       "      <td>6.018396e+07</td>\n",
       "    </tr>\n",
       "    <tr>\n",
       "      <th>2024-07-01</th>\n",
       "      <td>6.089478e+07</td>\n",
       "    </tr>\n",
       "    <tr>\n",
       "      <th>2024-07-02</th>\n",
       "      <td>5.690626e+07</td>\n",
       "    </tr>\n",
       "    <tr>\n",
       "      <th>2024-07-03</th>\n",
       "      <td>6.211618e+07</td>\n",
       "    </tr>\n",
       "    <tr>\n",
       "      <th>2024-07-04</th>\n",
       "      <td>6.390297e+07</td>\n",
       "    </tr>\n",
       "    <tr>\n",
       "      <th>2024-07-05</th>\n",
       "      <td>6.174155e+07</td>\n",
       "    </tr>\n",
       "    <tr>\n",
       "      <th>2024-07-08</th>\n",
       "      <td>5.795054e+07</td>\n",
       "    </tr>\n",
       "  </tbody>\n",
       "</table>\n",
       "</div>"
      ],
      "text/plain": [
       "                  target\n",
       "2024-06-19  7.286602e+07\n",
       "2024-06-20  5.821005e+07\n",
       "2024-06-21  5.728687e+07\n",
       "2024-06-24  5.431794e+07\n",
       "2024-06-25  5.398846e+07\n",
       "2024-06-26  5.157746e+07\n",
       "2024-06-27  5.657740e+07\n",
       "2024-06-28  6.018396e+07\n",
       "2024-07-01  6.089478e+07\n",
       "2024-07-02  5.690626e+07\n",
       "2024-07-03  6.211618e+07\n",
       "2024-07-04  6.390297e+07\n",
       "2024-07-05  6.174155e+07\n",
       "2024-07-08  5.795054e+07"
      ]
     },
     "execution_count": 7,
     "metadata": {},
     "output_type": "execute_result"
    }
   ],
   "source": [
    "pred"
   ]
  },
  {
   "cell_type": "code",
   "execution_count": 8,
   "metadata": {},
   "outputs": [
    {
     "name": "stderr",
     "output_type": "stream",
     "text": [
      "100%|██████████| 4/4 [00:00<00:00, 22.73it/s]"
     ]
    },
    {
     "name": "stdout",
     "output_type": "stream",
     "text": [
      "count_before: 2\n"
     ]
    },
    {
     "name": "stderr",
     "output_type": "stream",
     "text": [
      "\n"
     ]
    }
   ],
   "source": [
    "metric, predictions = evaluate_model_multi_with_gap(df_arg = df, lag_list = lag_list, steps_value = 14, freq = 'D', gap_length = gap_length, interval_length_before_gap = interval_length, forecast_method='without_refit')"
   ]
  },
  {
   "cell_type": "code",
   "execution_count": 9,
   "metadata": {},
   "outputs": [
    {
     "name": "stdout",
     "output_type": "stream",
     "text": [
      "   levels  mean_absolute_error\n",
      "0  Volume         2.182566e+07\n",
      "                  target\n",
      "2024-04-09  5.724547e+07\n",
      "2024-04-10  5.935912e+07\n",
      "2024-04-11  5.610201e+07\n",
      "2024-04-14  5.674965e+07\n",
      "2024-04-15  5.765011e+07\n",
      "2024-04-16  6.121539e+07\n",
      "2024-04-17  6.055364e+07\n",
      "2024-04-18  5.860782e+07\n",
      "2024-04-21  5.674040e+07\n",
      "2024-04-22  5.687641e+07\n",
      "2024-04-23  5.858394e+07\n",
      "2024-04-24  5.904935e+07\n",
      "2024-04-25  5.680710e+07\n",
      "2024-04-28  6.111800e+07\n",
      "2024-04-29  5.658619e+07\n",
      "2024-04-30  5.281644e+07\n",
      "2024-05-01  5.726102e+07\n",
      "2024-05-02  5.670166e+07\n",
      "2024-05-05  5.736720e+07\n",
      "2024-05-06  5.584784e+07\n",
      "2024-05-07  6.088188e+07\n",
      "2024-05-08  5.805737e+07\n",
      "2024-05-09  5.663604e+07\n",
      "2024-05-12  5.706339e+07\n",
      "2024-05-13  5.803597e+07\n",
      "2024-05-14  5.765957e+07\n",
      "2024-05-15  5.612201e+07\n",
      "2024-05-16  6.128254e+07\n",
      "2024-05-19  5.708324e+07\n",
      "2024-05-20  5.914751e+07\n",
      "2024-05-21  6.530343e+07\n",
      "2024-05-22  5.966356e+07\n",
      "2024-05-23  6.026102e+07\n",
      "2024-05-26  5.883133e+07\n",
      "2024-05-27  6.219885e+07\n",
      "2024-05-28  6.102542e+07\n",
      "2024-05-29  5.992194e+07\n",
      "2024-05-30  6.059803e+07\n",
      "2024-06-02  5.964927e+07\n",
      "2024-06-03  6.467535e+07\n",
      "2024-06-04  6.103108e+07\n",
      "2024-06-05  5.831303e+07\n",
      "2024-06-06  5.715448e+07\n",
      "2024-06-09  6.330260e+07\n",
      "2024-06-10  5.949670e+07\n",
      "2024-06-11  5.810564e+07\n",
      "2024-06-12  5.864203e+07\n",
      "2024-06-13  6.133788e+07\n",
      "2024-06-16  5.904108e+07\n",
      "2024-06-17  5.888284e+07\n"
     ]
    }
   ],
   "source": [
    "print(metric)\n",
    "print(predictions)"
   ]
  }
 ],
 "metadata": {
  "kernelspec": {
   "display_name": "Python 3",
   "language": "python",
   "name": "python3"
  },
  "language_info": {
   "codemirror_mode": {
    "name": "ipython",
    "version": 3
   },
   "file_extension": ".py",
   "mimetype": "text/x-python",
   "name": "python",
   "nbconvert_exporter": "python",
   "pygments_lexer": "ipython3",
   "version": "3.10.13"
  }
 },
 "nbformat": 4,
 "nbformat_minor": 2
}
