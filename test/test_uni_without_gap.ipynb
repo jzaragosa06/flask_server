{
 "cells": [
  {
   "cell_type": "markdown",
   "metadata": {},
   "source": [
    "## Testing the fuction for forecasting a univariate time series without a gap"
   ]
  },
  {
   "cell_type": "code",
   "execution_count": 1,
   "metadata": {},
   "outputs": [
    {
     "name": "stderr",
     "output_type": "stream",
     "text": [
      "/home/codespace/.python/current/lib/python3.10/site-packages/tqdm/auto.py:21: TqdmWarning: IProgress not found. Please update jupyter and ipywidgets. See https://ipywidgets.readthedocs.io/en/stable/user_install.html\n",
      "  from .autonotebook import tqdm as notebook_tqdm\n"
     ]
    },
    {
     "data": {
      "text/html": [
       "<div>\n",
       "<style scoped>\n",
       "    .dataframe tbody tr th:only-of-type {\n",
       "        vertical-align: middle;\n",
       "    }\n",
       "\n",
       "    .dataframe tbody tr th {\n",
       "        vertical-align: top;\n",
       "    }\n",
       "\n",
       "    .dataframe thead th {\n",
       "        text-align: right;\n",
       "    }\n",
       "</style>\n",
       "<table border=\"1\" class=\"dataframe\">\n",
       "  <thead>\n",
       "    <tr style=\"text-align: right;\">\n",
       "      <th></th>\n",
       "      <th>IPG3113N</th>\n",
       "    </tr>\n",
       "    <tr>\n",
       "      <th>observation_date</th>\n",
       "      <th></th>\n",
       "    </tr>\n",
       "  </thead>\n",
       "  <tbody>\n",
       "    <tr>\n",
       "      <th>1972-01-01</th>\n",
       "      <td>85.6945</td>\n",
       "    </tr>\n",
       "    <tr>\n",
       "      <th>1972-02-01</th>\n",
       "      <td>71.8200</td>\n",
       "    </tr>\n",
       "    <tr>\n",
       "      <th>1972-03-01</th>\n",
       "      <td>66.0229</td>\n",
       "    </tr>\n",
       "    <tr>\n",
       "      <th>1972-04-01</th>\n",
       "      <td>64.5645</td>\n",
       "    </tr>\n",
       "    <tr>\n",
       "      <th>1972-05-01</th>\n",
       "      <td>65.0100</td>\n",
       "    </tr>\n",
       "    <tr>\n",
       "      <th>...</th>\n",
       "      <td>...</td>\n",
       "    </tr>\n",
       "    <tr>\n",
       "      <th>2017-04-01</th>\n",
       "      <td>107.4288</td>\n",
       "    </tr>\n",
       "    <tr>\n",
       "      <th>2017-05-01</th>\n",
       "      <td>101.9209</td>\n",
       "    </tr>\n",
       "    <tr>\n",
       "      <th>2017-06-01</th>\n",
       "      <td>104.2022</td>\n",
       "    </tr>\n",
       "    <tr>\n",
       "      <th>2017-07-01</th>\n",
       "      <td>102.5861</td>\n",
       "    </tr>\n",
       "    <tr>\n",
       "      <th>2017-08-01</th>\n",
       "      <td>114.0613</td>\n",
       "    </tr>\n",
       "  </tbody>\n",
       "</table>\n",
       "<p>548 rows × 1 columns</p>\n",
       "</div>"
      ],
      "text/plain": [
       "                  IPG3113N\n",
       "observation_date          \n",
       "1972-01-01         85.6945\n",
       "1972-02-01         71.8200\n",
       "1972-03-01         66.0229\n",
       "1972-04-01         64.5645\n",
       "1972-05-01         65.0100\n",
       "...                    ...\n",
       "2017-04-01        107.4288\n",
       "2017-05-01        101.9209\n",
       "2017-06-01        104.2022\n",
       "2017-07-01        102.5861\n",
       "2017-08-01        114.0613\n",
       "\n",
       "[548 rows x 1 columns]"
      ]
     },
     "execution_count": 1,
     "metadata": {},
     "output_type": "execute_result"
    }
   ],
   "source": [
    "import sys\n",
    "import os\n",
    "\n",
    "# Add the directory containing the utility module to the system path\n",
    "sys.path.append(os.path.abspath('/workspaces/flask_server'))\n",
    "\n",
    "import pandas as pd\n",
    "import numpy as np\n",
    "from utility.lags import sig_lag\n",
    "from models.stacking import *\n",
    "from forecast.forecast_uni import *\n",
    "\n",
    "\n",
    "df = pd.read_csv('/workspaces/flask_server/test/data/candy_production.csv', index_col=0, parse_dates=True)\n",
    "df"
   ]
  },
  {
   "cell_type": "code",
   "execution_count": 2,
   "metadata": {},
   "outputs": [
    {
     "name": "stdout",
     "output_type": "stream",
     "text": [
      "29\n"
     ]
    }
   ],
   "source": [
    "#identify the lag\n",
    "lag = sig_lag(df, 30, ts_type = \"univariate\")\n",
    "print(lag)\n"
   ]
  },
  {
   "cell_type": "code",
   "execution_count": 3,
   "metadata": {},
   "outputs": [],
   "source": [
    "# pred = forecast_uni(df_arg=df, lag_value = int(lag), steps_value=12, freq = 'M', forecast_method=\"with_refit\")"
   ]
  },
  {
   "cell_type": "code",
   "execution_count": 4,
   "metadata": {},
   "outputs": [],
   "source": [
    "# pred"
   ]
  },
  {
   "cell_type": "code",
   "execution_count": 5,
   "metadata": {},
   "outputs": [
    {
     "name": "stderr",
     "output_type": "stream",
     "text": [
      "100%|██████████| 10/10 [00:00<00:00, 27.03it/s]"
     ]
    },
    {
     "name": "stdout",
     "output_type": "stream",
     "text": [
      "DatetimeIndex(['2008-08-31', '2008-09-30', '2008-10-31', '2008-11-30',\n",
      "               '2008-12-31', '2009-01-31', '2009-02-28', '2009-03-31',\n",
      "               '2009-04-30', '2009-05-31',\n",
      "               ...\n",
      "               '2016-11-30', '2016-12-31', '2017-01-31', '2017-02-28',\n",
      "               '2017-03-31', '2017-04-30', '2017-05-31', '2017-06-30',\n",
      "               '2017-07-31', '2017-08-31'],\n",
      "              dtype='datetime64[ns]', length=109, freq='ME')\n"
     ]
    },
    {
     "name": "stderr",
     "output_type": "stream",
     "text": [
      "\n",
      "/workspaces/flask_server/forecast/forecast_uni.py:161: FutureWarning: 'M' is deprecated and will be removed in a future version, please use 'ME' instead.\n",
      "  new_indices = pd.date_range(\n"
     ]
    }
   ],
   "source": [
    "metric, predictions = evaluate_model_uni(df_arg= df, lag_value = int(lag), steps_value=12, freq = 'M', forecast_method=\"without_refit\")"
   ]
  },
  {
   "cell_type": "code",
   "execution_count": 6,
   "metadata": {},
   "outputs": [
    {
     "name": "stdout",
     "output_type": "stream",
     "text": [
      "48.68814245607729\n",
      "                target\n",
      "2008-08-31   96.809410\n",
      "2008-09-30  105.273348\n",
      "2008-10-31  113.654683\n",
      "2008-11-30  117.202027\n",
      "2008-12-31  118.904361\n",
      "...                ...\n",
      "2017-04-30  103.052412\n",
      "2017-05-31   99.482515\n",
      "2017-06-30  101.403816\n",
      "2017-07-31  103.511573\n",
      "2017-08-31  108.077628\n",
      "\n",
      "[109 rows x 1 columns]\n"
     ]
    }
   ],
   "source": [
    "print(metric)\n",
    "print(predictions)"
   ]
  }
 ],
 "metadata": {
  "kernelspec": {
   "display_name": "Python 3",
   "language": "python",
   "name": "python3"
  },
  "language_info": {
   "codemirror_mode": {
    "name": "ipython",
    "version": 3
   },
   "file_extension": ".py",
   "mimetype": "text/x-python",
   "name": "python",
   "nbconvert_exporter": "python",
   "pygments_lexer": "ipython3",
   "version": "3.10.13"
  }
 },
 "nbformat": 4,
 "nbformat_minor": 2
}
